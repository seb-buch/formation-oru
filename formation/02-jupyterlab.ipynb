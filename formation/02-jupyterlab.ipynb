{
 "cells": [
  {
   "cell_type": "markdown",
   "id": "f4c6d28b-3474-4043-93d9-ca1eac2f42ff",
   "metadata": {},
   "source": [
    "# JupyterLab et les notebooks\n",
    "\n",
    "## L'interface JupyterLab\n",
    "\n",
    "C'est l'interface moderne de Jupyter qui se rapproche d'Environement de Développement Intégré (IDE).\n",
    "\n",
    ":::{figure} https://jupyterlab.readthedocs.io/en/stable/_images/interface-jupyterlab.png\n",
    ":alt: Interface JupyterLab\n",
    ":width: 800px\n",
    ":align: center\n",
    "\n",
    ":::\n",
    "\n",
    "La documentation officielle: [https://jupyterlab.readthedocs.io/en/stable/user/interface.html](https://jupyterlab.readthedocs.io/en/stable/user/interface.html)\n",
    "\n",
    "Présentation officielle:\n",
    "\n",
    ":::{iframe} https://youtu.be/A5YyoCKxEOU\n",
    ":width: 800px\n",
    "How to use JupyterLab\n",
    ":::\n",
    "\n",
    ":::{exercise} Découverte de JupyterLab\n",
    ":label: exploration\n",
    "Prendre 5 minutes pour découvrir l'interface JupyterLab.\n",
    "Quelle est la version de JupyterLab utilisée?\n",
    ":::\n",
    "\n",
    ":::{exercise} Explorateur de fichier\n",
    "Naviguer dans l'interface pour effectuer les actions suivantes:\n",
    "\n",
    " - [ ] Réduire/ouvrir l'explorateur de fichiers\n",
    " - [ ] Créer un nouveau dossier `temp` à la racine de son environnement\n",
    " - [ ] Créer un fichier texte `nouveau.txt` dans ce dossier\n",
    " - [ ] Éditer ce fichier et y écrire son prénom\n",
    " - [ ] Sauvegarder le fichier\n",
    " - [ ] Renommer le nom du fichier en `mon-nom.txt`\n",
    " - [ ] Le télécharger sur son ordinateur\n",
    ":::"
   ]
  },
  {
   "cell_type": "markdown",
   "id": "2648d77d-3fd5-4039-850a-518a1e8ef3c4",
   "metadata": {},
   "source": [
    "## Les notebooks\n",
    "\n",
    ":::{note}\n",
    "On parle des fichiers *Jupyter Notebooks* (extension `.ipynb`) et pas de l'interface historique.\n",
    ":::\n",
    "\n",
    "Un Jupyter Notebook est un document interactif qui combine du code exécutable, des visualisations, du texte enrichi et d'autres éléments multimédias dans un seul fichier.\n",
    "Ses principales caractéristiques sont les suivantes :\n",
    "\n",
    "- **Code Exécutable :** Exécution de code dans plusieurs langages de programmation, grâce à l'utilisation de kernels.\n",
    "  Le plus courant est Python, mais d'autres langages comme R, Julia, et Scala sont également supportés.\n",
    "  \n",
    "- **Visualisations :** Intégration de graphiques et de visualisations interactives. Particulièrement utile pour l'analyse de données et la présentation de résultats.\n",
    "\n",
    "- **Texte Enrichi :** Support de Markdown qui permet d'inclure des descriptions, des explications, des formules mathématiques en LaTeX, et d'autres éléments de texte formaté pour documenter leur travail.\n",
    "\n",
    "- **Multimédia :** Les notebooks peuvent contenir des images, des vidéos et d'autres types de médias. Utile pour la création de documents pédagogiques ou de rapports.\n",
    "\n",
    "- **Partage et Collaboration :** Les notebooks peuvent être partagés facilement avec d'autres utilisateurs.\n",
    "\n",
    "\n",
    ":::{hint}\n",
    "Tous les fichiers de cette formation *sont* des notebooks !\n",
    ":::\n",
    "\n",
    "La documentation officielle : [https://jupyterlab.readthedocs.io/en/stable/user/notebook.html](https://jupyterlab.readthedocs.io/en/stable/user/notebook.html)\n",
    "\n",
    "\n",
    "### Vocabulaire associé\n",
    "\n",
    ":::{glossary}\n",
    "Cellule (Cell)\n",
    ": Unité de base d'un Jupyter Notebook. Il existe principalement trois types de cellules : les cellules de code, les cellules Markdown, et les cellules de texte brut.\n",
    "\n",
    "Extension\n",
    ": Modules supplémentaires qui peuvent être ajoutés à Jupyter pour étendre ses fonctionnalités, comme l'ajout de nouvelles options d'édition ou l'intégration avec d'autres outils\n",
    "\n",
    "Kernel\n",
    ": Processus qui exécute le code contenu dans un notebook. Chaque notebook est associé à un kernel, qui peut être dans différents langages de programmation (Python, R, Julia, etc.).\n",
    "\n",
    "Markdown\n",
    ": Langage de balisage léger utilisé pour formater le texte dans les cellules Markdown. Il permet d'ajouter des titres, des listes, des liens, des images, et des formules mathématiques en LaTeX.  \n",
    "\n",
    "Notebook Server\n",
    ": Le serveur qui exécute et gère les Jupyter Notebooks. Il permet d'accéder aux notebooks via un navigateur web.\n",
    "\n",
    "Workspace\n",
    ": Environnement de travail personnalisé qui permet de sauvegarder l'état et la disposition d'une interface JupyterLab.\n",
    ":::"
   ]
  },
  {
   "cell_type": "markdown",
   "id": "809ea412-c760-4863-af55-650437e889e1",
   "metadata": {},
   "source": [
    ":::{exercise} Édition d'une cellule\n",
    "Le texte de la cellule suivante contient pas mal de coquilles...  \n",
    "Éditer la cellule pour corriger le texte et \"l'exécuter\" pour sortir du mode édition.\n",
    ":::"
   ]
  },
  {
   "cell_type": "markdown",
   "id": "0c496b98-364c-4077-95df-78f700ec09d3",
   "metadata": {},
   "source": [
    "Cette cellul de text contient des des mots en trop etdes erreur de frape!"
   ]
  },
  {
   "cell_type": "markdown",
   "id": "83a16538-f2b7-4ee1-ad69-c52203af5bfd",
   "metadata": {},
   "source": [
    ":::{exercise} Création d'un notebook\n",
    "Effectuer les actions suivantes:\n",
    "\n",
    " - [ ] Activer la complétion de code dans l'éditeur de préférences (*Settings Editor*).\n",
    " - [ ] Créer un notebook qui utilise en kernel R.\n",
    " - [ ] Créer une cellule de code.\n",
    " - [ ] Éditer la cellule pour y écrire la commande permettant d'*imprimer* `Bonjour!` à l'écran. (*Astuce:* se servir de l'autocomplétion)\n",
    " - [ ] Exécuter la cellule et s'assurer que `Bonjour!` s'affiche dans la sortie d'exécution de la cellule.\n",
    " \n",
    ":::"
   ]
  },
  {
   "cell_type": "markdown",
   "id": "a9ac0541-4948-45fd-a90b-652085dbc502",
   "metadata": {},
   "source": [
    "**Étape suivante:** [Les bases de R](03-bases-r.ipynb)"
   ]
  }
 ],
 "metadata": {
  "kernelspec": {
   "display_name": "R",
   "language": "R",
   "name": "ir"
  },
  "language_info": {
   "codemirror_mode": "r",
   "file_extension": ".r",
   "mimetype": "text/x-r-source",
   "name": "R",
   "pygments_lexer": "r",
   "version": "4.1.2"
  }
 },
 "nbformat": 4,
 "nbformat_minor": 5
}
