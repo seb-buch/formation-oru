{
 "cells": [
  {
   "cell_type": "markdown",
   "id": "569d9a8c",
   "metadata": {},
   "source": [
    "# Introduction à la programmation en R\n",
    "\n",
    "Ce notebook a pour objectif de vous familiariser avec les bases de la programmation en R, en abordant les structures de données et les boucles logiques."
   ]
  },
  {
   "cell_type": "markdown",
   "id": "69c5c8e4",
   "metadata": {},
   "source": [
    "## Structures de données en R\n",
    "\n",
    "R propose plusieurs types de structures de données. Voici les plus courantes :"
   ]
  },
  {
   "cell_type": "markdown",
   "id": "b0dc25ae",
   "metadata": {},
   "source": [
    "### Vecteurs\n",
    "\n",
    "Un vecteur est une séquence de données du même type. Vous pouvez créer un vecteur avec la fonction `c()`."
   ]
  },
  {
   "cell_type": "code",
   "execution_count": null,
   "id": "04635d97",
   "metadata": {},
   "outputs": [],
   "source": [
    "# Création d'un vecteur numérique\n",
    "numerique <- c(1, 2, 3, 4, 5)\n",
    "numerique"
   ]
  },
  {
   "cell_type": "markdown",
   "id": "7204840f",
   "metadata": {},
   "source": [
    "### Listes\n",
    "\n",
    "Une liste peut contenir des éléments de différents types. Elle est créée avec la fonction `list()`."
   ]
  },
  {
   "cell_type": "code",
   "execution_count": null,
   "id": "bdb238fd",
   "metadata": {},
   "outputs": [],
   "source": [
    "# Création d'une liste\n",
    "ma_liste <- list(nombre = 42, texte = \"Bonjour\", vecteur = c(1, 2, 3))\n",
    "ma_liste"
   ]
  },
  {
   "cell_type": "markdown",
   "id": "1d8cc0b3",
   "metadata": {},
   "source": [
    "### Data Frames\n",
    "\n",
    "Un data frame est une table de données où chaque colonne peut contenir un type différent. Il est créé avec la fonction `data.frame()`."
   ]
  },
  {
   "cell_type": "code",
   "execution_count": null,
   "id": "2869d918",
   "metadata": {},
   "outputs": [],
   "source": [
    "# Création d'un data frame\n",
    "mon_df <- data.frame(Noms = c(\"Alice\", \"Bob\"), Ages = c(25, 30))\n",
    "mon_df"
   ]
  },
  {
   "cell_type": "markdown",
   "id": "4a17494a",
   "metadata": {},
   "source": [
    "## Boucles et conditions\n",
    "\n",
    "Les boucles et les conditions permettent de contrôler le flux d'exécution du code."
   ]
  },
  {
   "cell_type": "markdown",
   "id": "16d328e9",
   "metadata": {},
   "source": [
    "### Boucle `for`\n",
    "\n",
    "La boucle `for` est utilisée pour itérer sur une séquence d'éléments."
   ]
  },
  {
   "cell_type": "code",
   "execution_count": null,
   "id": "44d8d206",
   "metadata": {},
   "outputs": [],
   "source": [
    "# Exemple de boucle for\n",
    "for (i in 1:5) {\n",
    "  print(i)\n",
    "}"
   ]
  },
  {
   "cell_type": "markdown",
   "id": "c07daee5",
   "metadata": {},
   "source": [
    "### Boucle `while`\n",
    "\n",
    "La boucle `while` continue tant qu'une condition est vraie."
   ]
  },
  {
   "cell_type": "code",
   "execution_count": null,
   "id": "2305a9e1",
   "metadata": {},
   "outputs": [],
   "source": [
    "# Exemple de boucle while\n",
    "compteur <- 1\n",
    "while (compteur <= 5) {\n",
    "  print(compteur)\n",
    "  compteur <- compteur + 1\n",
    "}"
   ]
  },
  {
   "cell_type": "markdown",
   "id": "7491d8c3",
   "metadata": {},
   "source": [
    "### Conditions `if` et `else`\n",
    "\n",
    "Les conditions `if` et `else` permettent d'exécuter du code en fonction de conditions logiques."
   ]
  },
  {
   "cell_type": "code",
   "execution_count": null,
   "id": "a2d28c05",
   "metadata": {},
   "outputs": [],
   "source": [
    "# Exemple de condition if-else\n",
    "x <- 10\n",
    "if (x > 5) {\n",
    "  print(\"x est supérieur à 5\")\n",
    "} else {\n",
    "  print(\"x est inférieur ou égal à 5\")\n",
    "}"
   ]
  },
  {
   "cell_type": "markdown",
   "id": "10c120b1",
   "metadata": {},
   "source": [
    "## Ressources supplémentaires\n",
    "\n",
    "- [Introduction à R](https://cran.r-project.org/doc/manuals/r-release/R-intro.html)\n",
    "- [Tutoriels R pour débutants](https://www.datacamp.com/courses/free-introduction-to-r)"
   ]
  }
 ],
 "metadata": {
  "kernelspec": {
   "display_name": "R",
   "language": "R",
   "name": "ir"
  },
  "language_info": {
   "codemirror_mode": "r",
   "file_extension": ".r",
   "mimetype": "text/x-r-source",
   "name": "R",
   "pygments_lexer": "r",
   "version": "4.1.2"
  }
 },
 "nbformat": 4,
 "nbformat_minor": 5
}
