{
 "cells": [
  {
   "cell_type": "markdown",
   "id": "569d9a8c",
   "metadata": {},
   "source": [
    "# Introduction à la programmation en R\n",
    "\n",
    "Ce notebook a pour objectif de vous familiariser avec les bases de la programmation en R, en abordant les structures de données et les boucles logiques."
   ]
  },
  {
   "cell_type": "markdown",
   "id": "69c5c8e4",
   "metadata": {},
   "source": [
    "## Structures de données en R\n",
    "\n",
    "R propose plusieurs types de structures de données. Voici les plus courantes :"
   ]
  },
  {
   "cell_type": "markdown",
   "id": "b0dc25ae",
   "metadata": {},
   "source": [
    "### Vecteurs\n",
    "\n",
    "Un vecteur est une séquence de données du même type. Vous pouvez créer un vecteur avec la fonction `c()`."
   ]
  },
  {
   "cell_type": "code",
   "execution_count": null,
   "id": "04635d97",
   "metadata": {},
   "outputs": [],
   "source": [
    "# Création d'un vecteur numérique\n",
    "mon_vecteur <- c(1, 2, 3, 4, 5)\n",
    "print(mon_vecteur)\n",
    "\n",
    "# Manipulations simple\n",
    "print(mon_vecteur[1]) # premier élément\n",
    "print(mon_vecteur + 2) # ajoute 2 à tous les éléments\n",
    "autre <- c(10)\n",
    "print(mon_vecteur + autre) # ajoute deux vecteurs (élément par élément)\n",
    "print(mon_vecteur < 3) # condition logique\n",
    "print(which(mon_vecteur<3)) # donne les indices correspondant à une condition logique\n",
    "print(mon_vecteur[mon_vecteur < 3]) # sélection d'élément"
   ]
  },
  {
   "cell_type": "markdown",
   "id": "22be0d21-9635-4673-b833-1316b8fe2850",
   "metadata": {},
   "source": [
    ":::{exercise} Manipulation de vecteurs\n",
    ":label: vectors\n",
    "- [ ] Crée un vecteur `a` contenant les nombres de 1 à 10.\n",
    "- [ ] Calcule la somme et la moyenne des éléments du vecteur `a`.\n",
    "- [ ] Multiplie chaque élément du vecteur `a` par 2 et stocke le résultat dans un nouveau vecteur `b`.\n",
    "- [ ] Sélectionne les éléments de `b` qui sont supérieurs à 10.\n",
    ":::"
   ]
  },
  {
   "cell_type": "markdown",
   "id": "46427dc2-ee48-4138-a5f2-114969496035",
   "metadata": {},
   "source": [
    "::::{solution} vectors\n",
    ":class: dropdown\n",
    ":::r\n",
    "# Solution exercice 1\n",
    "a <- c(1,2,3,4,5,6,7,8,9,10)\n",
    "print(a)\n",
    "print(sum(a))\n",
    "b <- a * 2\n",
    "print(b)\n",
    "print(b[b>10]) # valeurs\n",
    "print(which(b>10)) # indices\n",
    ":::\n",
    "::::"
   ]
  },
  {
   "cell_type": "markdown",
   "id": "7204840f",
   "metadata": {},
   "source": [
    "### Listes\n",
    "\n",
    "Une liste peut contenir des éléments de différents types. Elle est créée avec la fonction `list()`."
   ]
  },
  {
   "cell_type": "code",
   "execution_count": null,
   "id": "bdb238fd",
   "metadata": {},
   "outputs": [],
   "source": [
    "# Création d'une liste\n",
    "ma_liste <- list(nombre = 42, texte = \"Bonjour\", vecteur = c(1, 2, 3))"
   ]
  },
  {
   "cell_type": "markdown",
   "id": "546450ff-aeae-4f58-b5c8-6ac02b142691",
   "metadata": {},
   "source": [
    ":::{exercise} Accéder à un élement d'une liste\n",
    ":label: exo-list\n",
    "Afficher le 2ème élément de la liste\n",
    ":::"
   ]
  },
  {
   "cell_type": "markdown",
   "id": "4715846f-890b-4f28-b85f-e2192350fb1f",
   "metadata": {},
   "source": [
    "::::{solution} exo-list\n",
    ":class: dropdown\n",
    ":::r\n",
    "print(ma_liste[2])\n",
    ":::\n",
    "::::"
   ]
  },
  {
   "cell_type": "markdown",
   "id": "1d8cc0b3",
   "metadata": {},
   "source": [
    "### Data Frames\n",
    "\n",
    "Un data frame est une table de données où chaque colonne peut contenir un type différent. Il est créé avec la fonction `data.frame()`."
   ]
  },
  {
   "cell_type": "code",
   "execution_count": null,
   "id": "2869d918",
   "metadata": {},
   "outputs": [],
   "source": [
    "# Création d'un data frame\n",
    "mon_df <- data.frame(Noms = c(\"Alice\", \"Bob\"), Ages = c(25, 30))\n",
    "\n",
    "# Manipulations simples\n",
    "head(mon_df)\n",
    "str(mon_df)\n",
    "colnames(mon_df)\n",
    "print(colnames(mon_df)[1])\n",
    "print(mon_df[1,1])\n",
    "print(mon_df$Noms[2])\n",
    "autre_df <- data.frame(Noms = c(\"Charlie\"), Ages = c(42))\n",
    "# Comment combiner autre_df avec mon_df?"
   ]
  },
  {
   "cell_type": "markdown",
   "id": "3be07aa3-36ee-4e0a-a401-e9655eee5930",
   "metadata": {},
   "source": [
    "::::{exercise}\n",
    "Les commentaires d'aide de la cellule du dessus ont disparu...  \n",
    "Ouvrir la fenêtre d'aide contextuelle et l'afficher à côté du code.\n",
    ":::{hint} Aide\n",
    ":class: dropdown\n",
    "Le `launcher` peut aider\n",
    ":::\n",
    "::::"
   ]
  },
  {
   "cell_type": "markdown",
   "id": "b0e265b7-fd2e-4533-8b2c-b8ddeecef97d",
   "metadata": {},
   "source": [
    ":::{exercise} Combiner des dataframes\n",
    ":label: exo_merge\n",
    "Comment *fusionner* les deux dataframes `mon_df` et `autre_df` ?\n",
    ":::"
   ]
  },
  {
   "cell_type": "markdown",
   "id": "daceeda0-b517-4d86-b69e-a07ac91be454",
   "metadata": {},
   "source": [
    "::::{solution} exo_merge\n",
    ":class: dropdown\n",
    ":::r\n",
    "merge(mon_df, autre_df, all = TRUE)\n",
    ":::\n",
    "::::"
   ]
  },
  {
   "cell_type": "code",
   "execution_count": null,
   "id": "1296d163-bc4a-49a3-8c86-8fb779559111",
   "metadata": {},
   "outputs": [],
   "source": [
    "mon_df2 <- data.frame(Noms = c(\"Alice\", \"Bob\"), Ages = c(25, 30))\n",
    "\n",
    "# Modification d'un dataframe\n",
    "mon_df2$Sexe <- c(\"F\",\"H\") # Ajout d'une colonne\n",
    "print(mon_df2)\n",
    "mon_df2[nrow(mon_df2) + 1,] = c(\"Charlie\", 42, \"H\") # Ajout d'une ligne\n",
    "print(mon_df2)\n"
   ]
  },
  {
   "cell_type": "markdown",
   "id": "ece8572a-a06a-4b43-8964-be763514c1dd",
   "metadata": {},
   "source": [
    "::::{exercise} Ajout de colonnes/lignes sans modifications?\n",
    ":label: exo_bind\n",
    "La cellule précédente présente l'ajout de colonne/ligne en modifiant le *dataframe*.  \n",
    "Comment faire la même chose sans modifier le *dataframe* ?\n",
    ":::{hint} Aide\n",
    ":class: dropdown\n",
    "Chercher comment lier (*bind* en anglais) une ligne (***r**ow*) ou une colonne (***c**olumn*) à un *dataframe*.\n",
    "::::"
   ]
  },
  {
   "cell_type": "markdown",
   "id": "db642c7c-ff1e-4a41-bc6a-7f37624bec9c",
   "metadata": {},
   "source": [
    "::::{solution} exo_bind\n",
    ":class: dropdown\n",
    ":::r\n",
    "mon_df3 <- data.frame(Noms = c(\"Alice\", \"Bob\"), Ages = c(25, 30))\n",
    "\n",
    "print(cbind(mon_df3, Sexe=c(\"F\",\"H\")))\n",
    "print(rbind(mon_df3, c(\"Charlie\", 42, \"H\")))\n",
    ":::\n",
    "::::"
   ]
  },
  {
   "cell_type": "markdown",
   "id": "4a17494a",
   "metadata": {},
   "source": [
    "## Boucles et conditions\n",
    "\n",
    "Les boucles et les conditions permettent de contrôler le flux d'exécution du code."
   ]
  },
  {
   "cell_type": "markdown",
   "id": "16d328e9",
   "metadata": {},
   "source": [
    "### Boucle `for`\n",
    "\n",
    "La boucle `for` est utilisée pour itérer sur une séquence d'éléments."
   ]
  },
  {
   "cell_type": "code",
   "execution_count": null,
   "id": "44d8d206",
   "metadata": {},
   "outputs": [],
   "source": [
    "# Exemples de boucle for\n",
    "for (i in 1:5) {\n",
    "  print(i)\n",
    "}\n",
    "\n",
    "# Iteration de colonne sur un dataframe\n",
    "for (elem in mon_df2) { \n",
    "    print(elem)\n",
    "}"
   ]
  },
  {
   "cell_type": "markdown",
   "id": "c07daee5",
   "metadata": {},
   "source": [
    "### Boucle `while`\n",
    "\n",
    "La boucle `while` continue tant qu'une condition est vraie."
   ]
  },
  {
   "cell_type": "code",
   "execution_count": null,
   "id": "2305a9e1",
   "metadata": {},
   "outputs": [],
   "source": [
    "# Exemple de boucle while\n",
    "compteur <- 1\n",
    "while (compteur <= 5) {\n",
    "  print(compteur)\n",
    "  compteur <- compteur + 1\n",
    "}\n"
   ]
  },
  {
   "cell_type": "markdown",
   "id": "7491d8c3",
   "metadata": {},
   "source": [
    "### Conditions `if` et `else`\n",
    "\n",
    "Les conditions `if` et `else` permettent d'exécuter du code en fonction de conditions logiques."
   ]
  },
  {
   "cell_type": "code",
   "execution_count": null,
   "id": "a2d28c05",
   "metadata": {},
   "outputs": [],
   "source": [
    "# Exemple de condition if-else\n",
    "x <- 10\n",
    "if (x > 5) {\n",
    "  print(\"x est supérieur à 5\")\n",
    "} else if (x>2 & x<=5){\n",
    "    print(\"x est entre 3 et 5\")\n",
    "} else {\n",
    "  print(\"x est inférieur ou égal à 5\")\n",
    "}"
   ]
  },
  {
   "cell_type": "markdown",
   "id": "4a40dde5-b041-4a4f-8da5-ea2d2081e03f",
   "metadata": {},
   "source": [
    "::::{exercise} FizzBuzz\n",
    ":label: fizzbuzz\n",
    "Utiliser une boucle sur les nombres entre 1 et 20 en utilisant les conditions suivantes:\n",
    "- si le nombre est divisible par 3 : on écrit **Fizz**\n",
    "- si le nombre est divisible par 5 : on écrit **Buzz**\n",
    "- si le nombre est divisible par 3 et par 5 : on écrit **Fizzbuzz**\n",
    "- sinon : on écrit le nombre\n",
    ":::{hint} Aide\n",
    ":class: dropdown\n",
    "En R, l'opérateur [modulo](https://fr.wikipedia.org/wiki/Modulo_(op%C3%A9ration)) s'écrit `%%`\n",
    ":::\n",
    "::::"
   ]
  },
  {
   "cell_type": "markdown",
   "id": "ab80d081-e2dd-47e4-ab54-549f9682b62e",
   "metadata": {},
   "source": [
    "::::{solution} fizzbuzz\n",
    ":class: dropdown\n",
    ":::r\n",
    "for (i in 1:20){\n",
    "  \n",
    "  if(i%%3 == 0 & i%%5 == 0) {\n",
    "    print('FizzBuzz')\n",
    "  }\n",
    "  else if(i%%3 == 0) {\n",
    "    print('Fizz')\n",
    "  }\n",
    "  else if (i%%5 == 0){\n",
    "    print('Buzz')\n",
    "  }\n",
    "  else {\n",
    "    print(i)\n",
    "  }\n",
    "  \n",
    "}\n",
    ":::\n",
    "::::"
   ]
  },
  {
   "cell_type": "markdown",
   "id": "1fe7bca6-d670-4640-9cda-2c25f08f0c4b",
   "metadata": {},
   "source": [
    "**Étape suivante :** [Retour sur la démo](04-demo.ipynb)"
   ]
  }
 ],
 "metadata": {
  "kernelspec": {
   "display_name": "R",
   "language": "R",
   "name": "ir"
  },
  "language_info": {
   "codemirror_mode": "r",
   "file_extension": ".r",
   "mimetype": "text/x-r-source",
   "name": "R",
   "pygments_lexer": "r",
   "version": "4.1.2"
  }
 },
 "nbformat": 4,
 "nbformat_minor": 5
}
