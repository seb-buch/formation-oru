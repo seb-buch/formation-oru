{
 "cells": [
  {
   "cell_type": "markdown",
   "id": "24f180df-1d42-4f3b-9836-0a4b97a299ff",
   "metadata": {},
   "source": [
    "# Démo traitement de données\n",
    "\n",
    "## Récupération des données\n",
    "\n",
    "Pour cette démo, on va utiliser un fichier CSV qui contient des données de patients testés lors du début de l'épidémie de COVID en 2020.\n",
    "\n",
    "Ces données sont issues d'une [banque de données médicales libre](https://github.com/higgi13425/medicaldata) et le fichier CSV (1.5 Mo) est téléchargeable [ici](https://github.com/higgi13425/medicaldata/blob/master/data-raw/covid_testing_deid.csv).  \n",
    "Le fichier de description des données est [ici](https://github.com/higgi13425/medicaldata/blob/master/data-raw/covid_testing_code_book.csv).\n",
    "\n",
    ":::{exercise} Récupération des données\n",
    ":label: download_data\n",
    "Récupérer le fichier CSV de données (ou son contenu) et le sauvegarder dans un fichier `covid_testing.csv` dans un dossier `data` préalablement créé dans le répertoire de ce *notebook*.\n",
    ":::\n",
    "\n",
    "::::{solution} download_data\n",
    ":class: dropdown\n",
    "Il existe différentes façon de faire. Le plus simple reste sans doute de:\n",
    "1. télécharger (sur son ordinateur) le fichier depuis Github\n",
    "2. le renommer en `covid_testing.csv`\n",
    "3. dans l'explorateur de fichier de JupterLab, navgiguer dans le bon dossier et créer le dossier `data`\n",
    "4. téléverser (*uploader*) le fichier depuis son ordinateur vers le répertoire `data` de JupyterLab\n",
    "::::"
   ]
  },
  {
   "cell_type": "markdown",
   "id": "e8016635-c929-425d-9159-be78d10ab9b4",
   "metadata": {},
   "source": [
    "## Chargement des données\n",
    "\n",
    "Pour charger les données depuis un fichier csv, on pourrait utiliser la fonction `read.csv` native de R mais la bibliothèque [readr](https://readr.tidyverse.org/) propose une fonction `read_csv` plus performante.  \n",
    "Cependant, readr ne fait pas partie des bibliothèques par défaut et il faut la charger avant de l'utiliser avec la fonction `library`:"
   ]
  },
  {
   "cell_type": "code",
   "execution_count": null,
   "id": "92603442-a0fb-48de-831e-1b133d9c28eb",
   "metadata": {},
   "outputs": [],
   "source": [
    "library(readr)"
   ]
  },
  {
   "cell_type": "markdown",
   "id": "dd1aed1c-140a-4190-90f5-2108ccd3ee7c",
   "metadata": {},
   "source": [
    "On peut ensuite charger les données:"
   ]
  },
  {
   "cell_type": "code",
   "execution_count": null,
   "id": "f95e4899-7ecd-4315-9060-32541bb7dec5",
   "metadata": {},
   "outputs": [],
   "source": [
    "df <- read_csv('./data/covid_testing.csv')"
   ]
  },
  {
   "cell_type": "markdown",
   "id": "bf491eaa-eba6-4183-bf8b-da6aaa3805da",
   "metadata": {},
   "source": [
    ":::{exercise} Explorer les données\n",
    ":label: explore_data\n",
    "Utiliser ce qu'on a vu précédemment pour extraire:\n",
    "- [ ] le nombre de lignes\n",
    "- [ ] le nombre de colonnes\n",
    "- [ ] le (faux) nom du 1234ème patient\n",
    ":::"
   ]
  },
  {
   "cell_type": "markdown",
   "id": "103a87ba-5b95-4914-ab6f-ed0f334b6ac9",
   "metadata": {},
   "source": [
    "::::{solution} explore_data\n",
    ":class: dropdown\n",
    ":::r\n",
    "print(length(df$fake_last_name))\n",
    "print(length(df))\n",
    "print(df$fake_last_name[1234])\n",
    ":::\n",
    "::::"
   ]
  },
  {
   "cell_type": "markdown",
   "id": "2f48db7a-78e7-4ee7-b7df-fd9246ee60fb",
   "metadata": {},
   "source": [
    "## Exemples de traitement\n",
    "\n",
    "### Créer un histogramme\n",
    "\n",
    "Ici on utilise la fonction native `hist` pour générer un histogramme avec l'age des patients:"
   ]
  },
  {
   "cell_type": "code",
   "execution_count": null,
   "id": "cb48542e-0495-479a-95a7-8d3e6f59a85a",
   "metadata": {},
   "outputs": [],
   "source": [
    "hist(df$age, main=\"Age du patient testé\", xlab=\"Age (années)\", ylab=\"Occurrence\", col=\"blue\", border=\"black\")"
   ]
  },
  {
   "cell_type": "markdown",
   "id": "9a896669-a653-426d-a9da-104873e38018",
   "metadata": {},
   "source": [
    "### Traitement de données et génération d'un graphique associé\n",
    "\n",
    "On peut utiliser la bibliothèque [dplyr](https://dplyr.tidyverse.org/) qui permet de faciliter le traitement des données."
   ]
  },
  {
   "cell_type": "code",
   "execution_count": null,
   "id": "7b77bccc-7bfd-4b38-9c67-c271c406f74f",
   "metadata": {},
   "outputs": [],
   "source": [
    "# On charge dplyr\n",
    "library(dplyr)"
   ]
  },
  {
   "cell_type": "markdown",
   "id": "b9f02d65-cdda-4466-ad8d-a69b7db40dc5",
   "metadata": {},
   "source": [
    "Ici, on va tracer le nombre de tests effectués par jour en fonction du jour.\n",
    "\n",
    "On commence par compter le nombre d'occurences de chacunes des valeurs dans la colonne `pan_day`:"
   ]
  },
  {
   "cell_type": "code",
   "execution_count": null,
   "id": "caaf646c-441f-4c0a-bc11-8876e4020308",
   "metadata": {},
   "outputs": [],
   "source": [
    "ntests_per_day_df <- df %>%\n",
    "  group_by(pan_day) %>%\n",
    "  summarise(count = n()) %>%\n",
    "  ungroup()"
   ]
  },
  {
   "cell_type": "markdown",
   "id": "66723ff6-81b1-47eb-a414-7d8c783788ce",
   "metadata": {},
   "source": [
    ":::{tip} Note\n",
    "La syntaxe `%>%` correspond à l'opérateur [pipe](https://magrittr.tidyverse.org/reference/pipe.html) qui est très utilisé par [dplyr](https://dplyr.tidyverse.org/) pour enchaîner les opérations de traitement sur un *dataframe*.  \n",
    "Voir [l'usage de dplyr](https://dplyr.tidyverse.org/#usage).\n",
    ":::\n",
    "\n",
    "Puis, on utilise la bibliothèque [ggplot2](https://ggplot2.tidyverse.org/) pour tracer un graphique type \"nuage de points\":"
   ]
  },
  {
   "cell_type": "code",
   "execution_count": null,
   "id": "b330ae61-1a7c-494c-914e-9b4824b4dd4c",
   "metadata": {},
   "outputs": [],
   "source": [
    "# Chargement de ggplot\n",
    "library(ggplot2)"
   ]
  },
  {
   "cell_type": "code",
   "execution_count": null,
   "id": "785a999f-254e-4854-9e47-8e1b26eb5c94",
   "metadata": {},
   "outputs": [],
   "source": [
    "\n",
    "p <- ggplot(ntests_per_day_df, aes(x = as.numeric(pan_day), y = count)) +\n",
    "  geom_point() +\n",
    "  labs(title = \"Nombre de par jour depuis le début de la pandémie\",\n",
    "       x = \"Nombre de jours depuis le début de la pandémie (pan_day)\",\n",
    "       y = \"Nombre de tests\") +\n",
    "  scale_x_continuous(breaks = seq(min(ntests_per_day_df$pan_day), max(ntests_per_day_df$pan_day), by = 10)) +\n",
    "  theme_linedraw()\n",
    "print(p)"
   ]
  },
  {
   "cell_type": "markdown",
   "id": "bea0708e-a27b-4bfe-b937-6c7e42d0c785",
   "metadata": {},
   "source": [
    ":::{exercise} Analyse exploratoire des données\n",
    "Se servir de tout ce qui a été vu jusqu'à maintenant pour analyser les données différemment.\n",
    ":::"
   ]
  }
 ],
 "metadata": {
  "kernelspec": {
   "display_name": "R",
   "language": "R",
   "name": "ir"
  },
  "language_info": {
   "codemirror_mode": "r",
   "file_extension": ".r",
   "mimetype": "text/x-r-source",
   "name": "R",
   "pygments_lexer": "r",
   "version": "4.1.2"
  }
 },
 "nbformat": 4,
 "nbformat_minor": 5
}
