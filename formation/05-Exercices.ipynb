{
 "cells": [
  {
   "cell_type": "code",
   "execution_count": null,
   "id": "cce26b0a-8ca8-4231-8ba3-ad454fe07b34",
   "metadata": {
    "jupyter": {
     "source_hidden": true
    }
   },
   "outputs": [],
   "source": [
    "# Chargement des bibliothèques utiles\n",
    "library(readr)"
   ]
  },
  {
   "cell_type": "markdown",
   "id": "5fd461da-c509-4914-873a-4fa69652c0bc",
   "metadata": {},
   "source": [
    "# Exercices du jour\n"
   ]
  },
  {
   "cell_type": "markdown",
   "id": "781b1f2b-14ed-4d1a-9fba-464626a6d9f8",
   "metadata": {},
   "source": [
    "## Exercice 1: Importer un fichier `.csv` en spécifiant le format des variables\n",
    "\n",
    "Importation du fichier [`data/Exercice_01/fiches_smur.csv`](data/Exercice_01/fiches_smur.csv):"
   ]
  },
  {
   "cell_type": "code",
   "execution_count": null,
   "id": "e9847c9c-8be7-4920-a83c-4c9a5f4a436c",
   "metadata": {},
   "outputs": [],
   "source": [
    "exo1_df <- read_csv(file = 'data/Exercice_01/fiches_smur.csv')\n",
    "str(exo1_df$patient_id)"
   ]
  },
  {
   "cell_type": "markdown",
   "id": "ef2048f5-a3e2-4fa9-96a6-3af4466222a1",
   "metadata": {},
   "source": [
    "La colonne `patient_id` a été interprétée contenant des nombres alors qu'elle contient un identifiant que l'on traite comme du texte. "
   ]
  },
  {
   "cell_type": "markdown",
   "id": "5df82868-3c4f-4e2a-b093-e2a968735617",
   "metadata": {},
   "source": [
    ":::{tip} Écrire le code permettant de :\n",
    " - [ ] Importer le fichier d'exemple avec le bon typage.\n",
    ":::"
   ]
  },
  {
   "cell_type": "markdown",
   "id": "ca0f3c24-d5aa-4fe4-be76-056d5c400b34",
   "metadata": {},
   "source": [
    "## Exercice 2: Concaténation de fichiers\n",
    "\n",
    "Les fichiers [`data/Exercice_02/fiches_smur.csv`](data/Exercice_02/fiches_smur.csv) et [`data/Exercice_02/fiches_smurnvupreprod.csv`](data/Exercice_02/fiches_smurnvupreprod.csv) contiennent les mêmes colonnes, mais des lignes différentes:"
   ]
  },
  {
   "cell_type": "code",
   "execution_count": null,
   "id": "6ef8ef35-3c8b-4255-8b96-6f91f4fc2001",
   "metadata": {},
   "outputs": [],
   "source": [
    "exo2_df1 <- read_csv(file = 'data/Exercice_02/fiches_smur.csv')\n",
    "head(exo2_df1,2)\n",
    "\n",
    "exo2_df2 <- read_csv(file = 'data/Exercice_02/fiches_smurnvupreprod.csv')\n",
    "head(exo2_df2,2)"
   ]
  },
  {
   "cell_type": "markdown",
   "id": "7ff1c1ce-c01c-4199-9575-c54a4b4ee902",
   "metadata": {},
   "source": [
    ":::{tip} Écrire le code permettant de :\n",
    "- [ ] Gérer le mauvais formattage du fichier [`data/Exercice_02/fiches_smurnvupreprod.csv`](data/Exercice_02/fiches_smurnvupreprod.csv)\n",
    "- [ ] Fusionner les deux fichiers en utilisant les colonnes du fichier [`data/Exercice_02/fiches_smur.csv`](data/Exercice_02/fiches_smur.csv) comme référence pour les colonnes\n",
    "- [ ] Exporter les données fusionnées dans un fichier `smur_concat.csv`\n",
    ":::"
   ]
  },
  {
   "cell_type": "markdown",
   "id": "09eca41f-2ff5-4212-a70e-8a077c9797aa",
   "metadata": {},
   "source": [
    "## Exercice 3: Fusion de colonnes\n",
    "\n",
    "Les fichiers [`data/Exercice_03/smur_tension_pad.csv`](data/Exercice_03/smur_tension_pad.csv), \n",
    "[`data/Exercice_03/smur_tension_pam.csv`](data/Exercice_03/smur_tension_pam.csv) et\n",
    "[`data/Exercice_03/smur_tension_pas.csv`](data/Exercice_03/smur_tension_pas.csv) contiennent les valeurs de pression artérielle diastolique, moyenne et systolique d'un même patient:"
   ]
  },
  {
   "cell_type": "code",
   "execution_count": null,
   "id": "310d588e-c3a8-45f1-8694-40a2961d2aad",
   "metadata": {
    "scrolled": true
   },
   "outputs": [],
   "source": [
    "exo3_pad <- read_csv(file = \"data//Exercice_03/smur_tension_pad.csv\")\n",
    "exo3_pam <- read_csv(file = \"data//Exercice_03/smur_tension_pam.csv\")\n",
    "exo3_pas <- read_csv(file = \"data//Exercice_03/smur_tension_pas.csv\")\n",
    "\n",
    "head(exo3_pad,2)\n",
    "head(exo3_pam,2)\n",
    "head(exo3_pas,2)"
   ]
  },
  {
   "cell_type": "markdown",
   "id": "4cfdf437-ed59-4ea5-8b7d-fd3b49d2c989",
   "metadata": {},
   "source": [
    ":::{tip} Écrire le code permettant de :\n",
    "- [ ] Fusionner les trois fichiers afin d'avoir les 3 valeurs tensionnelles dans 3 colonnes différentes tout en évitant les doublons de colonnes.\n",
    "- [ ] Exporter les données fusionnées dans un fichier `smur_tension_pa.csv`\n",
    ":::"
   ]
  },
  {
   "cell_type": "markdown",
   "id": "0937635d-a5fb-4c40-8a7d-ce2d38b70b26",
   "metadata": {},
   "source": [
    "## Exercice 4: Traitement multi-fichier\n",
    "\n",
    "Le fichier [`data/Exercice_04/fiches_smur.csv`](data/Exercice_04/fiches_smur.csv) contient les fiches d'intervention SMUR en lien avec des patients.\n",
    "\n",
    "Le fichier [`data/Exercice_04/smur_traitement.csv`](data/Exercice_04/smur_traitement.csv) contient les traitements médicamenteux apportés au patient (si il y a eu traitement)\n"
   ]
  },
  {
   "cell_type": "code",
   "execution_count": null,
   "id": "72e246e2-5c77-47ca-a6cd-c4695570043f",
   "metadata": {},
   "outputs": [],
   "source": [
    "exo4_fiches <- read_csv(file = 'data/Exercice_04/fiches_smur.csv')\n",
    "exo4_traitements <- read_csv(file = 'data/Exercice_04/smur_traitement.csv')\n",
    "\n",
    "head(exo4_fiches, 2)\n",
    "head(exo4_traitements, 2)"
   ]
  },
  {
   "cell_type": "markdown",
   "id": "b107252d-ccc6-4e33-bbb9-5fc57d3edd8c",
   "metadata": {},
   "source": [
    ":::{tip} Écrire le code permettant de :\n",
    "- [ ] Créer une nouvelle colonne `Traitement` dans les données d'intervention SMUR qui, pour chaque patient, contient `OUI` si le patient a subi un traitement (`NON` si pas de traitement).\n",
    "- [ ] Exporter les données dans un fichier `fiches_smur_traitement.csv`\n",
    ":::"
   ]
  },
  {
   "attachments": {},
   "cell_type": "markdown",
   "id": "eb2f4cd5-a298-4d15-8859-6bce5427df50",
   "metadata": {},
   "source": [
    "## Exercice 5\n",
    "\n",
    "::::{tip} Écrire le code permettant de :\n",
    "- [ ] Fusionner le fichier résultat de l'exercice 3 et les fichiers d'entrée de l'exercice 4 (fiches SMUR et traitements) afin d'avoir un suivi complet de l'intervention pour chaque patient.\n",
    "\n",
    "Exemple pour le patient *1111240306122459* qui a 2 lignes d’infos en smur_tension_pas + 4 lignes d’infos en smur_traitement + 1 ligne en fiches_smur :\n",
    "\n",
    ":::{figure} Exo6_exemple.png\n",
    ":alt: Exemple\n",
    ":width: 800px\n",
    ":align: center\n",
    ":::\n",
    "\n",
    "::::\n",
    "\n"
   ]
  },
  {
   "cell_type": "markdown",
   "id": "85820b2e-379d-4d9f-8f6c-a3f2d16a70f6",
   "metadata": {},
   "source": [
    "## Exercice 6\n",
    "\n",
    "Le fichier [`data/Exercice_06/smur_traitement_doublon.csv`](data/Exercice_06/smur_traitement_doublon.csv) contient des lignes en doublons:"
   ]
  },
  {
   "cell_type": "code",
   "execution_count": null,
   "id": "b39e0427-db1c-47ff-b006-5faa7c6c3281",
   "metadata": {},
   "outputs": [],
   "source": [
    "exo06_df <- read_csv(file = \"data/Exercice_06/smur_traitement_doublon.csv\")\n",
    "subset(exo06_df, patient_id == 1111240317131341)"
   ]
  },
  {
   "cell_type": "markdown",
   "id": "9004fb4d-99ba-4413-91ae-95563805150d",
   "metadata": {},
   "source": [
    ":::{tip} Écrire le code permettant de :\n",
    "- [ ] Supprimer les doublons en gardant les lignes dont la `version` est la plus récente.\n",
    "- [ ] Exporter les données dans un fichier `smur_traitement_unique.csv`\n",
    ":::"
   ]
  }
 ],
 "metadata": {
  "kernelspec": {
   "display_name": "R",
   "language": "R",
   "name": "ir"
  },
  "language_info": {
   "codemirror_mode": "r",
   "file_extension": ".r",
   "mimetype": "text/x-r-source",
   "name": "R",
   "pygments_lexer": "r",
   "version": "4.1.2"
  }
 },
 "nbformat": 4,
 "nbformat_minor": 5
}
