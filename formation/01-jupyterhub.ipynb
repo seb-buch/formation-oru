{
 "cells": [
  {
   "cell_type": "markdown",
   "metadata": {
    "vscode": {
     "languageId": "r"
    }
   },
   "source": [
    "# Introduction à JupyterHub\n",
    "\n",
    "\n",
    "[JupyterHub](https://jupyter.org/hub) est une plateforme qui permet à plusieurs utilisateurs d'accéder à des environnements Jupyterlab Jupyter Notebooks.  \n",
    "Il s'agit d'un serveur applicatif, gratuit et [libre](https://github.com/jupyter/) développé au sein du [projet Jupyter](https://jupyter.org/governance/intro.html).\n"
   ]
  },
  {
   "cell_type": "markdown",
   "metadata": {},
   "source": [
    "## JupyterHub, JupyterLab et Jupyter Notebook ?"
   ]
  },
  {
   "cell_type": "markdown",
   "metadata": {},
   "source": [
    "### JupyterHub\n",
    "\n",
    "*JupyterHub* est une plateforme qui permet de gérer et de partager des environnements *Jupyter Notebook* pour *plusieurs* utilisateurs.\n",
    "Il est souvent utilisé dans les environnements académiques et professionnels pour offrir un accès *centralisé* aux notebooks.\n",
    "\n",
    "**Fonctionnalités:**\n",
    "\n",
    "- Gestion multi-utilisateurs avec authentification.\n",
    "- Déploiement sur des serveurs pour un accès à distance.\n",
    "- Allocation de ressources et gestion des permissions pour les utilisateurs.\n",
    "- Intégration avec des systèmes d'authentification externes (LDAP, OAuth, etc.).\n",
    "\n",
    "**Cas d'usage typique:** Organisme qui souhaitent fournir un accès à *Jupyter Notebook* ou *JupyterLab* à un grand nombre d'utilisateurs, tout en gérant les ressources et la sécurité."
   ]
  },
  {
   "cell_type": "markdown",
   "metadata": {},
   "source": [
    "### JupyterLab\n",
    "\n",
    "*JupyterLab* est l'interface utilisateur de nouvelle génération pour *Jupyter Notebook*.\n",
    "Il offre une interface plus flexible et puissante, permettant de travailler avec des notebooks, des éditeurs de texte, des terminaux et des sorties de données dans un seul environnement intégré.\n",
    "\n",
    "**Fonctionnalités:**\n",
    "\n",
    "- Interface utilisateur modulaire avec des panneaux redimensionnables.\n",
    "- Support pour ouvrir plusieurs documents et visualisations côte à côte.\n",
    "- Intégration de fonctionnalités avancées comme les extensions et les plugins.\n",
    "- Meilleure gestion des fichiers et des dossiers.\n",
    "\n",
    "**Cas d'usage typique:** Utilisateurs qui ont besoin d'une interface plus robuste et personnalisable pour gérer des projets complexes.\n",
    "\n",
    ":::{tip} À retenir \n",
    "C'est cette interface qui est utilisé par défaut.\n",
    ":::\n",
    "\n"
   ]
  },
  {
   "cell_type": "markdown",
   "metadata": {},
   "source": [
    "### Jupyter Notebook\n",
    "\n",
    "*Jupyter Notebook* est une application web qui permet de créer et de partager des documents contenant du code, des visualisations et du texte enrichi.\n",
    "Il est utilisé pour le prototypage rapide, l'analyse de données et la visualisation.\n",
    "\n",
    "**Fonctionnalités:**\n",
    "\n",
    "- Édition de code avec exécution interactive.\n",
    "- Supporte plusieurs langages de programmation via des kernels (R, Python, Julia, etc.).\n",
    "- Intégration de visualisations et de graphiques.\n",
    "- Possibilité d'inclure du texte formaté en Markdown.\n",
    "\n",
    "**Cas d'usage typique:** Utilisateurs qui souhaitent travailler sur des projets de données ou des analyses simples.\n",
    "\n",
    ":::{tip} À retenir\n",
    "C'est l'interface historique.\n",
    ":::"
   ]
  },
  {
   "cell_type": "markdown",
   "metadata": {},
   "source": [
    ":::{exercise} Notebook ou JupyterLab ?\n",
    "Il est possible d'ouvrir cette page aussi bien avec l'interface *Notebook* qu'avec l'interface *JupyterLab*.  \n",
    "Cela se fait simplement via un lien en haut à droite de la page.  \n",
    "Tester et comparer les deux interfaces.\n",
    ":::"
   ]
  },
  {
   "cell_type": "markdown",
   "metadata": {},
   "source": [
    "**Prochaine étape:** [Découverte de JupyterLab et des notebooks](02-jupyterlab.ipynb)"
   ]
  }
 ],
 "metadata": {
  "kernelspec": {
   "display_name": "R",
   "language": "R",
   "name": "ir"
  },
  "language_info": {
   "codemirror_mode": "r",
   "file_extension": ".r",
   "mimetype": "text/x-r-source",
   "name": "R",
   "pygments_lexer": "r",
   "version": "4.1.2"
  }
 },
 "nbformat": 4,
 "nbformat_minor": 4
}
